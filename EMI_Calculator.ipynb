{
  "nbformat": 4,
  "nbformat_minor": 0,
  "metadata": {
    "colab": {
      "name": "EMI_Calculator.ipynb",
      "provenance": [],
      "private_outputs": true,
      "authorship_tag": "ABX9TyOYaujKFfTOQenV/URHEpJ/",
      "include_colab_link": true
    },
    "kernelspec": {
      "name": "python3",
      "display_name": "Python 3"
    }
  },
  "cells": [
    {
      "cell_type": "markdown",
      "metadata": {
        "id": "view-in-github",
        "colab_type": "text"
      },
      "source": [
        "<a href=\"https://colab.research.google.com/github/Katherine-Sanjana/EMI_Calculator/blob/master/EMI_Calculator.ipynb\" target=\"_parent\"><img src=\"https://colab.research.google.com/assets/colab-badge.svg\" alt=\"Open In Colab\"/></a>"
      ]
    },
    {
      "cell_type": "code",
      "metadata": {
        "id": "ZK5KMoBhike-",
        "colab_type": "code",
        "colab": {}
      },
      "source": [
        "import tkinter as tk\n",
        "from tkinter import *\n",
        "\n",
        "window = tk.Tk()\n",
        "window.geometry(\"500x250\")\n",
        "\n",
        "def simple_int():\n",
        "    \n",
        "  si1 = float(p.get())*float(r.get())*float(t.get())\n",
        "  si2 = si1/100\n",
        "\n",
        "  P = float(p.get())\n",
        "  R = float(r.get())/12/100\n",
        "  N = float(t.get())*12\n",
        "  u = P*R*((1+R)**N)\n",
        "  l = ((1+R)**N)-1\n",
        "  emi = u/l\n",
        "  lblresult.config(text=\"Simple Interest is\"+str(si2)+\"\\n and EMI is\"+str(emi))\n",
        "\n",
        "lblp = Label(window, text = \"Enter Principal\",font=('Arial',10,'bold'))\n",
        "p = Entry(window)\n",
        "\n",
        "lblr = Label(window,text = \"Enter Rate\",font=('Arial',10,'bold'))\n",
        "r = Entry(window)\n",
        "\n",
        "lblt = Label(window,text = \"Enter Time\",font=('Arial',10,'bold'))\n",
        "t = Entry(window)\n",
        "\n",
        "lblp.grid(column=0,row=0)\n",
        "p.grid(column=1,row=0)\n",
        "\n",
        "lblr.grid(column=0,row=1)\n",
        "r.grid(column=1,row=1)\n",
        "\n",
        "lblt.grid(column=0,row=2)\n",
        "t.grid(column=1,row=2)\n",
        "\n",
        "btnsi = Button(window, text=\"CALCULATE SI\",command=simple_int,bg='blue',fg='white')\n",
        "btnsi.grid(column=1,row=3)\n",
        "\n",
        "lblresult = Label(window,text=\"Result Will Come Here\",font=('Arial',16,'bold'))\n",
        "lblresult.grid(column=1,row=4)\n",
        "\n",
        "window.mainloop()\n"
      ],
      "execution_count": null,
      "outputs": []
    }
  ]
}